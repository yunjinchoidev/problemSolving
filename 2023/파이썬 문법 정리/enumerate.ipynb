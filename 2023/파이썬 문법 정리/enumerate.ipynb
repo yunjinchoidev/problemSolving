{
 "cells": [
  {
   "cell_type": "markdown",
   "source": [
    "# enumerate() 함수"
   ],
   "metadata": {
    "collapsed": false
   }
  },
  {
   "cell_type": "code",
   "execution_count": 1,
   "outputs": [
    {
     "name": "stdout",
     "output_type": "stream",
     "text": [
      "0 A\n",
      "1 B\n",
      "2 C\n"
     ]
    }
   ],
   "source": [
    "for i, letter in enumerate(['A', 'B', 'C']):\n",
    "    print(i, letter)"
   ],
   "metadata": {
    "collapsed": false
   }
  },
  {
   "cell_type": "code",
   "execution_count": 2,
   "outputs": [
    {
     "name": "stdout",
     "output_type": "stream",
     "text": [
      "101 A\n",
      "102 B\n",
      "103 C\n"
     ]
    }
   ],
   "source": [
    "for i, letter in enumerate(['A', 'B', 'C'], start=101):\n",
    "    print(i, letter)"
   ],
   "metadata": {
    "collapsed": false
   }
  },
  {
   "cell_type": "code",
   "execution_count": 3,
   "outputs": [
    {
     "name": "stdout",
     "output_type": "stream",
     "text": [
      "0 0 A\n",
      "0 1 B\n",
      "0 2 C\n",
      "1 0 D\n",
      "1 1 E\n",
      "1 2 F\n",
      "2 0 G\n",
      "2 1 H\n",
      "2 2 I\n"
     ]
    }
   ],
   "source": [
    "matrix = [['A', 'B', 'C'], ['D', 'E', 'F'], ['G', 'H', 'I']]\n",
    "\n",
    "for r, row in enumerate(matrix):\n",
    "    for c, letter in enumerate(row):\n",
    "        print(r, c, letter)"
   ],
   "metadata": {
    "collapsed": false
   }
  },
  {
   "cell_type": "code",
   "execution_count": null,
   "outputs": [],
   "source": [],
   "metadata": {
    "collapsed": false
   }
  }
 ],
 "metadata": {
  "kernelspec": {
   "display_name": "Python 3",
   "language": "python",
   "name": "python3"
  },
  "language_info": {
   "codemirror_mode": {
    "name": "ipython",
    "version": 2
   },
   "file_extension": ".py",
   "mimetype": "text/x-python",
   "name": "python",
   "nbconvert_exporter": "python",
   "pygments_lexer": "ipython2",
   "version": "2.7.6"
  }
 },
 "nbformat": 4,
 "nbformat_minor": 0
}
